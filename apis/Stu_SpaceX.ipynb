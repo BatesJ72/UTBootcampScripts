{
 "cells": [
  {
   "cell_type": "code",
   "execution_count": 17,
   "metadata": {},
   "outputs": [],
   "source": [
    "import requests\n",
    "import pandas as pd"
   ]
  },
  {
   "cell_type": "code",
   "execution_count": 3,
   "metadata": {},
   "outputs": [],
   "source": [
    "url = \"https://api.spacex.land/rest/dragons\""
   ]
  },
  {
   "cell_type": "code",
   "execution_count": 4,
   "metadata": {},
   "outputs": [],
   "source": [
    "r = requests.get(url)"
   ]
  },
  {
   "cell_type": "code",
   "execution_count": 5,
   "metadata": {},
   "outputs": [
    {
     "data": {
      "text/plain": [
       "200"
      ]
     },
     "execution_count": 5,
     "metadata": {},
     "output_type": "execute_result"
    }
   ],
   "source": [
    "r.status_code"
   ]
  },
  {
   "cell_type": "code",
   "execution_count": 8,
   "metadata": {},
   "outputs": [],
   "source": [
    "data = r.json()"
   ]
  },
  {
   "cell_type": "code",
   "execution_count": 9,
   "metadata": {},
   "outputs": [
    {
     "data": {
      "text/plain": [
       "[{'active': True,\n",
       "  'crew_capacity': 7,\n",
       "  'description': 'Dragon 2 (also Crew Dragon, Dragon V2, or formerly DragonRider) is the second version of the SpaceX Dragon spacecraft, which will be a human-rated vehicle. It includes a set of four side-mounted thruster pods with two SuperDraco engines each, which can serve as a launch escape system or launch abort system (LAS). In addition, it has much larger windows, new flight computers and avionics, and redesigned solar arrays, and a modified outer mold line from the initial cargo Dragon that has been flying for several years.',\n",
       "  'diameter': {'feet': 12, 'meters': 3.7},\n",
       "  'dry_mass_kg': 6350,\n",
       "  'dry_mass_lb': 14000,\n",
       "  'first_flight': '2019-03-02',\n",
       "  'heat_shield': {'dev_partner': 'NASA',\n",
       "   'material': 'PICA-X',\n",
       "   'size_meters': 3.6,\n",
       "   'temp_degrees': 3000},\n",
       "  'height_w_trunk': {'feet': 23.6, 'meters': 7.2},\n",
       "  'id': 'dragon2',\n",
       "  'launch_payload_mass': {'kg': 6000, 'lb': 13228},\n",
       "  'launch_payload_vol': {'cubic_feet': 883, 'cubic_meters': 25},\n",
       "  'name': 'Dragon 2',\n",
       "  'orbit_duration_yr': 2,\n",
       "  'pressurized_capsule': {'payload_volume': {'cubic_feet': 388,\n",
       "    'cubic_meters': 11}},\n",
       "  'return_payload_mass': {'kg': 3000, 'lb': 6614},\n",
       "  'return_payload_vol': {'cubic_feet': 388, 'cubic_meters': 11},\n",
       "  'sidewall_angle_deg': 15,\n",
       "  'thrusters': [{'amount': 18,\n",
       "    'fuel_1': 'nitrogen tetroxide',\n",
       "    'fuel_2': 'monomethylhydrazine',\n",
       "    'pods': 4,\n",
       "    'thrust': {'kN': 0.4, 'lbf': 90},\n",
       "    'type': 'Draco'},\n",
       "   {'amount': 8,\n",
       "    'fuel_1': 'dinitrogen tetroxide',\n",
       "    'fuel_2': 'monomethylhydrazine',\n",
       "    'pods': 4,\n",
       "    'thrust': {'kN': 71, 'lbf': 16000},\n",
       "    'type': 'SuperDraco'}],\n",
       "  'trunk': {'cargo': {'solar_array': 2, 'unpressurized_cargo': True},\n",
       "   'trunk_volume': {'cubic_feet': 494, 'cubic_meters': 14}},\n",
       "  'type': 'capsule',\n",
       "  'wikipedia': 'https://en.wikipedia.org/wiki/Dragon_2'},\n",
       " {'active': True,\n",
       "  'crew_capacity': 0,\n",
       "  'description': 'Dragon is a reusable spacecraft developed by SpaceX, an American private space transportation company based in Hawthorne, California. Dragon is launched into space by the SpaceX Falcon 9 two-stage-to-orbit launch vehicle. The Dragon spacecraft was originally designed for human travel, but so far has only been used to deliver cargo to the International Space Station (ISS).',\n",
       "  'diameter': {'feet': 12, 'meters': 3.7},\n",
       "  'dry_mass_kg': 4200,\n",
       "  'dry_mass_lb': 9300,\n",
       "  'first_flight': '2010-12-08',\n",
       "  'heat_shield': {'dev_partner': 'NASA',\n",
       "   'material': 'PICA-X',\n",
       "   'size_meters': 3.6,\n",
       "   'temp_degrees': 3000},\n",
       "  'height_w_trunk': {'feet': 23.6, 'meters': 7.2},\n",
       "  'id': 'dragon1',\n",
       "  'launch_payload_mass': {'kg': 6000, 'lb': 13228},\n",
       "  'launch_payload_vol': {'cubic_feet': 883, 'cubic_meters': 25},\n",
       "  'name': 'Dragon 1',\n",
       "  'orbit_duration_yr': 2,\n",
       "  'pressurized_capsule': {'payload_volume': {'cubic_feet': 388,\n",
       "    'cubic_meters': 11}},\n",
       "  'return_payload_mass': {'kg': 3000, 'lb': 6614},\n",
       "  'return_payload_vol': {'cubic_feet': 388, 'cubic_meters': 11},\n",
       "  'sidewall_angle_deg': 15,\n",
       "  'thrusters': [{'amount': 18,\n",
       "    'fuel_1': 'nitrogen tetroxide',\n",
       "    'fuel_2': 'monomethylhydrazine',\n",
       "    'pods': 4,\n",
       "    'thrust': {'kN': 0.4, 'lbf': 90},\n",
       "    'type': 'Draco'}],\n",
       "  'trunk': {'cargo': {'solar_array': 2, 'unpressurized_cargo': True},\n",
       "   'trunk_volume': {'cubic_feet': 494, 'cubic_meters': 14}},\n",
       "  'type': 'capsule',\n",
       "  'wikipedia': 'https://en.wikipedia.org/wiki/SpaceX_Dragon'}]"
      ]
     },
     "execution_count": 9,
     "metadata": {},
     "output_type": "execute_result"
    }
   ],
   "source": [
    "data[:5]"
   ]
  },
  {
   "cell_type": "code",
   "execution_count": 16,
   "metadata": {},
   "outputs": [
    {
     "data": {
      "text/plain": [
       "[{'amount': 18,\n",
       "  'fuel_1': 'nitrogen tetroxide',\n",
       "  'fuel_2': 'monomethylhydrazine',\n",
       "  'pods': 4,\n",
       "  'thrust': {'kN': 0.4, 'lbf': 90},\n",
       "  'type': 'Draco'}]"
      ]
     },
     "execution_count": 16,
     "metadata": {},
     "output_type": "execute_result"
    }
   ],
   "source": [
    "data[1][\"thrusters\"]"
   ]
  },
  {
   "cell_type": "code",
   "execution_count": 18,
   "metadata": {},
   "outputs": [],
   "source": [
    "df = pd.DataFrame(data)"
   ]
  },
  {
   "cell_type": "code",
   "execution_count": 19,
   "metadata": {},
   "outputs": [
    {
     "data": {
      "text/html": [
       "<div>\n",
       "<style scoped>\n",
       "    .dataframe tbody tr th:only-of-type {\n",
       "        vertical-align: middle;\n",
       "    }\n",
       "\n",
       "    .dataframe tbody tr th {\n",
       "        vertical-align: top;\n",
       "    }\n",
       "\n",
       "    .dataframe thead th {\n",
       "        text-align: right;\n",
       "    }\n",
       "</style>\n",
       "<table border=\"1\" class=\"dataframe\">\n",
       "  <thead>\n",
       "    <tr style=\"text-align: right;\">\n",
       "      <th></th>\n",
       "      <th>active</th>\n",
       "      <th>crew_capacity</th>\n",
       "      <th>description</th>\n",
       "      <th>diameter</th>\n",
       "      <th>dry_mass_kg</th>\n",
       "      <th>dry_mass_lb</th>\n",
       "      <th>first_flight</th>\n",
       "      <th>heat_shield</th>\n",
       "      <th>height_w_trunk</th>\n",
       "      <th>id</th>\n",
       "      <th>...</th>\n",
       "      <th>name</th>\n",
       "      <th>orbit_duration_yr</th>\n",
       "      <th>pressurized_capsule</th>\n",
       "      <th>return_payload_mass</th>\n",
       "      <th>return_payload_vol</th>\n",
       "      <th>sidewall_angle_deg</th>\n",
       "      <th>thrusters</th>\n",
       "      <th>trunk</th>\n",
       "      <th>type</th>\n",
       "      <th>wikipedia</th>\n",
       "    </tr>\n",
       "  </thead>\n",
       "  <tbody>\n",
       "    <tr>\n",
       "      <th>0</th>\n",
       "      <td>True</td>\n",
       "      <td>7</td>\n",
       "      <td>Dragon 2 (also Crew Dragon, Dragon V2, or form...</td>\n",
       "      <td>{'feet': 12, 'meters': 3.7}</td>\n",
       "      <td>6350</td>\n",
       "      <td>14000</td>\n",
       "      <td>2019-03-02</td>\n",
       "      <td>{'dev_partner': 'NASA', 'material': 'PICA-X', ...</td>\n",
       "      <td>{'feet': 23.6, 'meters': 7.2}</td>\n",
       "      <td>dragon2</td>\n",
       "      <td>...</td>\n",
       "      <td>Dragon 2</td>\n",
       "      <td>2</td>\n",
       "      <td>{'payload_volume': {'cubic_feet': 388, 'cubic_...</td>\n",
       "      <td>{'kg': 3000, 'lb': 6614}</td>\n",
       "      <td>{'cubic_feet': 388, 'cubic_meters': 11}</td>\n",
       "      <td>15</td>\n",
       "      <td>[{'amount': 18, 'fuel_1': 'nitrogen tetroxide'...</td>\n",
       "      <td>{'cargo': {'solar_array': 2, 'unpressurized_ca...</td>\n",
       "      <td>capsule</td>\n",
       "      <td>https://en.wikipedia.org/wiki/Dragon_2</td>\n",
       "    </tr>\n",
       "    <tr>\n",
       "      <th>1</th>\n",
       "      <td>True</td>\n",
       "      <td>0</td>\n",
       "      <td>Dragon is a reusable spacecraft developed by S...</td>\n",
       "      <td>{'feet': 12, 'meters': 3.7}</td>\n",
       "      <td>4200</td>\n",
       "      <td>9300</td>\n",
       "      <td>2010-12-08</td>\n",
       "      <td>{'dev_partner': 'NASA', 'material': 'PICA-X', ...</td>\n",
       "      <td>{'feet': 23.6, 'meters': 7.2}</td>\n",
       "      <td>dragon1</td>\n",
       "      <td>...</td>\n",
       "      <td>Dragon 1</td>\n",
       "      <td>2</td>\n",
       "      <td>{'payload_volume': {'cubic_feet': 388, 'cubic_...</td>\n",
       "      <td>{'kg': 3000, 'lb': 6614}</td>\n",
       "      <td>{'cubic_feet': 388, 'cubic_meters': 11}</td>\n",
       "      <td>15</td>\n",
       "      <td>[{'amount': 18, 'fuel_1': 'nitrogen tetroxide'...</td>\n",
       "      <td>{'cargo': {'solar_array': 2, 'unpressurized_ca...</td>\n",
       "      <td>capsule</td>\n",
       "      <td>https://en.wikipedia.org/wiki/SpaceX_Dragon</td>\n",
       "    </tr>\n",
       "  </tbody>\n",
       "</table>\n",
       "<p>2 rows × 22 columns</p>\n",
       "</div>"
      ],
      "text/plain": [
       "   active  crew_capacity                                        description  \\\n",
       "0    True              7  Dragon 2 (also Crew Dragon, Dragon V2, or form...   \n",
       "1    True              0  Dragon is a reusable spacecraft developed by S...   \n",
       "\n",
       "                      diameter  dry_mass_kg  dry_mass_lb first_flight  \\\n",
       "0  {'feet': 12, 'meters': 3.7}         6350        14000   2019-03-02   \n",
       "1  {'feet': 12, 'meters': 3.7}         4200         9300   2010-12-08   \n",
       "\n",
       "                                         heat_shield  \\\n",
       "0  {'dev_partner': 'NASA', 'material': 'PICA-X', ...   \n",
       "1  {'dev_partner': 'NASA', 'material': 'PICA-X', ...   \n",
       "\n",
       "                  height_w_trunk       id  ...      name orbit_duration_yr  \\\n",
       "0  {'feet': 23.6, 'meters': 7.2}  dragon2  ...  Dragon 2                 2   \n",
       "1  {'feet': 23.6, 'meters': 7.2}  dragon1  ...  Dragon 1                 2   \n",
       "\n",
       "                                 pressurized_capsule  \\\n",
       "0  {'payload_volume': {'cubic_feet': 388, 'cubic_...   \n",
       "1  {'payload_volume': {'cubic_feet': 388, 'cubic_...   \n",
       "\n",
       "        return_payload_mass                       return_payload_vol  \\\n",
       "0  {'kg': 3000, 'lb': 6614}  {'cubic_feet': 388, 'cubic_meters': 11}   \n",
       "1  {'kg': 3000, 'lb': 6614}  {'cubic_feet': 388, 'cubic_meters': 11}   \n",
       "\n",
       "  sidewall_angle_deg                                          thrusters  \\\n",
       "0                 15  [{'amount': 18, 'fuel_1': 'nitrogen tetroxide'...   \n",
       "1                 15  [{'amount': 18, 'fuel_1': 'nitrogen tetroxide'...   \n",
       "\n",
       "                                               trunk     type  \\\n",
       "0  {'cargo': {'solar_array': 2, 'unpressurized_ca...  capsule   \n",
       "1  {'cargo': {'solar_array': 2, 'unpressurized_ca...  capsule   \n",
       "\n",
       "                                     wikipedia  \n",
       "0       https://en.wikipedia.org/wiki/Dragon_2  \n",
       "1  https://en.wikipedia.org/wiki/SpaceX_Dragon  \n",
       "\n",
       "[2 rows x 22 columns]"
      ]
     },
     "execution_count": 19,
     "metadata": {},
     "output_type": "execute_result"
    }
   ],
   "source": [
    "df"
   ]
  },
  {
   "cell_type": "code",
   "execution_count": null,
   "metadata": {},
   "outputs": [],
   "source": []
  },
  {
   "cell_type": "code",
   "execution_count": null,
   "metadata": {},
   "outputs": [],
   "source": []
  }
 ],
 "metadata": {
  "environment": {
   "name": "common-cpu.m54",
   "type": "gcloud",
   "uri": "gcr.io/deeplearning-platform-release/base-cpu:m54"
  },
  "kernelspec": {
   "display_name": "Python 3",
   "language": "python",
   "name": "python3"
  },
  "language_info": {
   "codemirror_mode": {
    "name": "ipython",
    "version": 3
   },
   "file_extension": ".py",
   "mimetype": "text/x-python",
   "name": "python",
   "nbconvert_exporter": "python",
   "pygments_lexer": "ipython3",
   "version": "3.7.8"
  },
  "varInspector": {
   "cols": {
    "lenName": 16,
    "lenType": 16,
    "lenVar": 40
   },
   "kernels_config": {
    "python": {
     "delete_cmd_postfix": "",
     "delete_cmd_prefix": "del ",
     "library": "var_list.py",
     "varRefreshCmd": "print(var_dic_list())"
    },
    "r": {
     "delete_cmd_postfix": ") ",
     "delete_cmd_prefix": "rm(",
     "library": "var_list.r",
     "varRefreshCmd": "cat(var_dic_list()) "
    }
   },
   "types_to_exclude": [
    "module",
    "function",
    "builtin_function_or_method",
    "instance",
    "_Feature"
   ],
   "window_display": false
  }
 },
 "nbformat": 4,
 "nbformat_minor": 4
}
