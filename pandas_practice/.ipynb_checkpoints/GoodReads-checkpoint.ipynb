{
 "cells": [
  {
   "cell_type": "code",
   "execution_count": 1,
   "metadata": {},
   "outputs": [],
   "source": [
    "%load_ext lab_black"
   ]
  },
  {
   "cell_type": "code",
   "execution_count": 2,
   "metadata": {},
   "outputs": [],
   "source": [
    "# Import Dependencies\n",
    "import pandas as pd"
   ]
  },
  {
   "cell_type": "code",
   "execution_count": 20,
   "metadata": {},
   "outputs": [
    {
     "data": {
      "text/html": [
       "<div>\n",
       "<style scoped>\n",
       "    .dataframe tbody tr th:only-of-type {\n",
       "        vertical-align: middle;\n",
       "    }\n",
       "\n",
       "    .dataframe tbody tr th {\n",
       "        vertical-align: top;\n",
       "    }\n",
       "\n",
       "    .dataframe thead th {\n",
       "        text-align: right;\n",
       "    }\n",
       "</style>\n",
       "<table border=\"1\" class=\"dataframe\">\n",
       "  <thead>\n",
       "    <tr style=\"text-align: right;\">\n",
       "      <th></th>\n",
       "      <th>publication_year</th>\n",
       "      <th>original_title</th>\n",
       "      <th>authors</th>\n",
       "      <th>one_star_reviews</th>\n",
       "      <th>two_star_reviews</th>\n",
       "      <th>three_star_reviews</th>\n",
       "      <th>four_star_reviews</th>\n",
       "      <th>five_star_reviews</th>\n",
       "    </tr>\n",
       "  </thead>\n",
       "  <tbody>\n",
       "    <tr>\n",
       "      <th>0</th>\n",
       "      <td>2008.0</td>\n",
       "      <td>The Hunger Games</td>\n",
       "      <td>Suzanne Collins</td>\n",
       "      <td>66715</td>\n",
       "      <td>127936</td>\n",
       "      <td>560092</td>\n",
       "      <td>1481305</td>\n",
       "      <td>2706317</td>\n",
       "    </tr>\n",
       "    <tr>\n",
       "      <th>1</th>\n",
       "      <td>1997.0</td>\n",
       "      <td>Harry Potter and the Philosopher's Stone</td>\n",
       "      <td>J.K. Rowling, Mary GrandPré</td>\n",
       "      <td>75504</td>\n",
       "      <td>101676</td>\n",
       "      <td>455024</td>\n",
       "      <td>1156318</td>\n",
       "      <td>3011543</td>\n",
       "    </tr>\n",
       "    <tr>\n",
       "      <th>2</th>\n",
       "      <td>2005.0</td>\n",
       "      <td>Twilight</td>\n",
       "      <td>Stephenie Meyer</td>\n",
       "      <td>456191</td>\n",
       "      <td>436802</td>\n",
       "      <td>793319</td>\n",
       "      <td>875073</td>\n",
       "      <td>1355439</td>\n",
       "    </tr>\n",
       "    <tr>\n",
       "      <th>3</th>\n",
       "      <td>1960.0</td>\n",
       "      <td>To Kill a Mockingbird</td>\n",
       "      <td>Harper Lee</td>\n",
       "      <td>60427</td>\n",
       "      <td>117415</td>\n",
       "      <td>446835</td>\n",
       "      <td>1001952</td>\n",
       "      <td>1714267</td>\n",
       "    </tr>\n",
       "    <tr>\n",
       "      <th>4</th>\n",
       "      <td>1925.0</td>\n",
       "      <td>The Great Gatsby</td>\n",
       "      <td>F. Scott Fitzgerald</td>\n",
       "      <td>86236</td>\n",
       "      <td>197621</td>\n",
       "      <td>606158</td>\n",
       "      <td>936012</td>\n",
       "      <td>947718</td>\n",
       "    </tr>\n",
       "  </tbody>\n",
       "</table>\n",
       "</div>"
      ],
      "text/plain": [
       "   publication_year                            original_title  \\\n",
       "0            2008.0                          The Hunger Games   \n",
       "1            1997.0  Harry Potter and the Philosopher's Stone   \n",
       "2            2005.0                                  Twilight   \n",
       "3            1960.0                     To Kill a Mockingbird   \n",
       "4            1925.0                          The Great Gatsby   \n",
       "\n",
       "                       authors  one_star_reviews  two_star_reviews  \\\n",
       "0              Suzanne Collins             66715            127936   \n",
       "1  J.K. Rowling, Mary GrandPré             75504            101676   \n",
       "2              Stephenie Meyer            456191            436802   \n",
       "3                   Harper Lee             60427            117415   \n",
       "4          F. Scott Fitzgerald             86236            197621   \n",
       "\n",
       "   three_star_reviews  four_star_reviews  five_star_reviews  \n",
       "0              560092            1481305            2706317  \n",
       "1              455024            1156318            3011543  \n",
       "2              793319             875073            1355439  \n",
       "3              446835            1001952            1714267  \n",
       "4              606158             936012             947718  "
      ]
     },
     "execution_count": 20,
     "metadata": {},
     "output_type": "execute_result"
    }
   ],
   "source": [
    "# File to Load\n",
    "data = pd.read_csv(\"../Resources/books_clean.csv\")\n",
    "\n",
    "# Reformat headers\n",
    "# df = data.rename(columns=lambda header_string: header_string.lower().replace(\" \", \"_\"))\n",
    "# df.head()\n",
    "\n",
    "# Read the modified GoodReads csv and store into Pandas DataFrame\n",
    "df = data.rename(\n",
    "    columns=lambda header_string: header_string.lower().replace(\" \", \"_\")\n",
    ").drop(\"isbn\", axis=1)\n",
    "\n",
    "df.read_csv(\"goodreads_v2.csv\")"
   ]
  },
  {
   "cell_type": "code",
   "execution_count": null,
   "metadata": {
    "collapsed": true,
    "jupyter": {
     "outputs_hidden": true
    }
   },
   "outputs": [],
   "source": [
    "# Calculate the number of unique authors in the DataFrame\n",
    "\n",
    "\n",
    "# Calculate the earliest/latest year a book was published\n",
    "\n",
    "\n",
    "# Calculate the total reviews for the entire dataset\n",
    "# Hint: use the pandas' sum() method to get the sum for each row\n"
   ]
  },
  {
   "cell_type": "code",
   "execution_count": null,
   "metadata": {},
   "outputs": [],
   "source": [
    "# Place all of the data found into a summary DataFrame"
   ]
  }
 ],
 "metadata": {
  "environment": {
   "name": "common-cpu.m54",
   "type": "gcloud",
   "uri": "gcr.io/deeplearning-platform-release/base-cpu:m54"
  },
  "kernelspec": {
   "display_name": "Python 3",
   "language": "python",
   "name": "python3"
  },
  "language_info": {
   "codemirror_mode": {
    "name": "ipython",
    "version": 3
   },
   "file_extension": ".py",
   "mimetype": "text/x-python",
   "name": "python",
   "nbconvert_exporter": "python",
   "pygments_lexer": "ipython3",
   "version": "3.7.8"
  }
 },
 "nbformat": 4,
 "nbformat_minor": 4
}
